{
 "cells": [
  {
   "cell_type": "code",
   "execution_count": null,
   "metadata": {},
   "outputs": [
    {
     "name": "stdout",
     "output_type": "stream",
     "text": [
      "/home/jaemin/llm-cxr/bento\n"
     ]
    }
   ],
   "source": [
    "%cd bento"
   ]
  },
  {
   "cell_type": "code",
   "execution_count": 2,
   "metadata": {},
   "outputs": [
    {
     "name": "stderr",
     "output_type": "stream",
     "text": [
      "/home/jaemin/.pyenv/versions/3.10.13/lib/python3.10/site-packages/tqdm/auto.py:21: TqdmWarning: IProgress not found. Please update jupyter and ipywidgets. See https://ipywidgets.readthedocs.io/en/stable/user_install.html\n",
      "  from .autonotebook import tqdm as notebook_tqdm\n"
     ]
    }
   ],
   "source": [
    "from typing import TYPE_CHECKING, cast\n",
    "import PIL\n",
    "import bentoml\n",
    "from pydantic import BaseModel\n",
    "from bentoml.io import JSON, Multipart, Text, NumpyNdarray, Image\n",
    "import numpy as np\n",
    "import os\n",
    "import torch\n",
    "#import torchvision.transforms.functional as TF\n",
    "#import torchvision.transforms as T\n",
    "#import PIL\n",
    "\n",
    "#if TYPE_CHECKING:\n",
    "    #from PIL.Image import Image\n",
    "\n",
    "\n",
    "TARGET_IMAGE_SIZE = 256\n",
    "\n",
    "os.environ[\"CUDA_LAUNCH_BLOCKING\"] = \"1\"  # for debugging purpose\n",
    "os.environ[\"CUDA_VISIBLE_DEVICES\"] = \"0\"  # for debugging purpose\n",
    "\n",
    "rrg_runner = bentoml.models.get(\"brain-mri-rrg:latest\").to_runner()\n",
    "\n",
    "svc = bentoml.Service(name=\"brain-mri-rrg\", runners=[rrg_runner])\n",
    "\n",
    "\n",
    "class TextResponseDTO(BaseModel):\n",
    "    answer: str\n",
    "\n",
    "    class Config:\n",
    "        extra = \"forbid\"\n",
    "        arbitrary_types_allowed = True\n",
    "\n",
    "# ImageToText\n",
    "@svc.api(\n",
    "    input=Multipart(query=Text(), img=NumpyNdarray()),\n",
    "    output=JSON(pydantic_model=TextResponseDTO),\n",
    ")\n",
    "\n",
    "async def reportgen(query: str, img: np.ndarray) -> TextResponseDTO:\n",
    "\n",
    "    c = img.size[3]\n",
    "    m = max(img.size)\n",
    "    \n",
    "    if c != 3:\n",
    "        raise ValueError(f\"Incorrect number of channels for MRI image processing\")\n",
    "\n",
    "    if m < TARGET_IMAGE_SIZE:\n",
    "        raise ValueError(f\"min dim for image {s} < {TARGET_IMAGE_SIZE}\")\n",
    "        \n",
    "    ###Prompt Generation\n",
    "    img_tag = '<Img><ImageHere></Img>'\n",
    "    prompt = img_tag + query\n",
    "    model_input = (img, prompt)\n",
    "\n",
    "    ###Report Generation\n",
    "    answer = await rrg_runner.async_run(model_input, max_new_tokens=200)\n",
    "    return TextResponseDTO(\n",
    "        answer=answer,\n",
    "    )\n",
    "\n"
   ]
  },
  {
   "cell_type": "code",
   "execution_count": 3,
   "metadata": {},
   "outputs": [
    {
     "name": "stderr",
     "output_type": "stream",
     "text": [
      "'Runner.init_local' is for debugging and testing only. Make sure to remove it before deploying to production.\n",
      "'Runner.init_local' is for debugging and testing only. Make sure to remove it before deploying to production.\n",
      "'Runner.init_local' is for debugging and testing only. Make sure to remove it before deploying to production.\n"
     ]
    }
   ],
   "source": [
    "for runner in svc.runners:\n",
    "    runner.init_local()"
   ]
  },
  {
   "cell_type": "code",
   "execution_count": null,
   "metadata": {},
   "outputs": [],
   "source": [
    "inp = {\n",
    "    \"query\": \"Describe this volumetric brain tumor MRI with possible abnormalities.\",\n",
    "    \"img\": np.load(''), \n",
    "}\n",
    "result = await svc.apis[\"reportgen\"].func(**inp)"
   ]
  },
  {
   "cell_type": "code",
   "execution_count": 5,
   "metadata": {},
   "outputs": [
    {
     "data": {
      "text/plain": [
       "TextResponseDTO(answer='Right upper lobe pneumonia.  Recommend followup to resolution.')"
      ]
     },
     "execution_count": 5,
     "metadata": {},
     "output_type": "execute_result"
    }
   ],
   "source": [
    "print(result)"
   ]
  }
 ],
 "metadata": {
  "kernelspec": {
   "display_name": "Python 3",
   "language": "python",
   "name": "python3"
  },
  "language_info": {
   "codemirror_mode": {
    "name": "ipython",
    "version": 3
   },
   "file_extension": ".py",
   "mimetype": "text/x-python",
   "name": "python",
   "nbconvert_exporter": "python",
   "pygments_lexer": "ipython3",
   "version": "3.10.13"
  },
  "orig_nbformat": 4
 },
 "nbformat": 4,
 "nbformat_minor": 2
}
