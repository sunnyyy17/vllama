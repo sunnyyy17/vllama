{
 "cells": [
  {
   "cell_type": "code",
   "execution_count": 1,
   "metadata": {},
   "outputs": [
    {
     "name": "stdout",
     "output_type": "stream",
     "text": [
      "/home/changsun/minigpt4\n"
     ]
    }
   ],
   "source": [
    "%cd ../"
   ]
  },
  {
   "cell_type": "code",
   "execution_count": 2,
   "metadata": {},
   "outputs": [],
   "source": [
    "from typing import TYPE_CHECKING, cast\n",
    "import PIL\n",
    "import bentoml\n",
    "from pydantic import BaseModel\n",
    "from bentoml.io import JSON, Multipart, Text, NumpyNdarray, Image\n",
    "import numpy as np\n",
    "import os\n",
    "import torch\n",
    "#import torchvision.transforms.functional as TF\n",
    "#import torchvision.transforms as T\n",
    "#import PIL\n",
    "\n",
    "#if TYPE_CHECKING:\n",
    "    #from PIL.Image import Image\n",
    "\n",
    "\n",
    "TARGET_IMAGE_SIZE = 256\n",
    "\n",
    "os.environ[\"CUDA_LAUNCH_BLOCKING\"] = \"1\"  # for debugging purpose\n",
    "os.environ[\"CUDA_VISIBLE_DEVICES\"] = \"2\"  # for debugging purpose\n",
    "\n",
    "rrg_runner = bentoml.models.get(\"brain-mri-rrg:latest\").to_runner()\n",
    "\n",
    "svc = bentoml.Service(name=\"brain-mri-rrg\", runners=[rrg_runner])\n",
    "\n",
    "\n",
    "class TextResponseDTO(BaseModel):\n",
    "    answer: str\n",
    "\n",
    "    class Config:\n",
    "        extra = \"forbid\"\n",
    "        arbitrary_types_allowed = True\n",
    "\n",
    "# ImageToText\n",
    "@svc.api(\n",
    "    input=Multipart(query=Text(), img=NumpyNdarray()),\n",
    "    output=JSON(pydantic_model=TextResponseDTO),\n",
    ")\n",
    "\n",
    "async def reportgen(query: str, img: np.ndarray) -> TextResponseDTO:\n",
    "    \n",
    "    \n",
    "    if img.ndim != 4:\n",
    "        raise ValueError(f\"Incorrect number of dimensions for MRI image processing\")\n",
    "\n",
    "    m = img.shape[2]\n",
    "    c = img.shape[3]\n",
    "    m\n",
    "    if m < TARGET_IMAGE_SIZE:\n",
    "        raise ValueError(f\"min dim for image {m} < {TARGET_IMAGE_SIZE}\")\n",
    "    if c != 3:\n",
    "        raise ValueError(f\"Incorrect number of channels for MRI image processing\")\n",
    "    \n",
    "    ###Prompt Generation\n",
    "    img_tag = '<Img><ImageHere></Img>'\n",
    "    prompt = img_tag + query\n",
    "    model_input = (img, prompt)\n",
    "\n",
    "    ###Report Generation\n",
    "    answer = await rrg_runner.async_run(model_input, max_new_tokens=200)\n",
    "    return TextResponseDTO(\n",
    "        answer=answer,\n",
    "    )\n",
    "\n",
    "\n"
   ]
  },
  {
   "cell_type": "code",
   "execution_count": 3,
   "metadata": {},
   "outputs": [
    {
     "name": "stderr",
     "output_type": "stream",
     "text": [
      "'Runner.init_local' is for debugging and testing only. Make sure to remove it before deploying to production.\n",
      "/home/changsun/anaconda3/envs/minigpt4/lib/python3.9/site-packages/tqdm/auto.py:22: TqdmWarning: IProgress not found. Please update jupyter and ipywidgets. See https://ipywidgets.readthedocs.io/en/stable/user_install.html\n",
      "  from .autonotebook import tqdm as notebook_tqdm\n",
      "/home/changsun/anaconda3/envs/minigpt4/lib/python3.9/site-packages/torchvision/io/image.py:13: UserWarning: Failed to load image Python extension: libtorch_cuda_cu.so: cannot open shared object file: No such file or directory\n",
      "  warn(f\"Failed to load image Python extension: {e}\")\n"
     ]
    },
    {
     "name": "stdout",
     "output_type": "stream",
     "text": [
      "\n",
      "===================================BUG REPORT===================================\n",
      "Welcome to bitsandbytes. For bug reports, please submit your error trace to: https://github.com/TimDettmers/bitsandbytes/issues\n",
      "================================================================================\n"
     ]
    }
   ],
   "source": [
    "for runner in svc.runners:\n",
    "    runner.init_local()"
   ]
  },
  {
   "cell_type": "code",
   "execution_count": 4,
   "metadata": {},
   "outputs": [
    {
     "name": "stdout",
     "output_type": "stream",
     "text": [
      "<Img><ImageHere></Img> This is a volumetric brain MRI scan showing abnormalities. Diagnose this patient with this MRI scan.\n",
      "['<Img>', '</Img> This is a volumetric brain MRI scan showing abnormalities. Diagnose this patient with this MRI scan.']\n"
     ]
    },
    {
     "name": "stderr",
     "output_type": "stream",
     "text": [
      "/home/changsun/anaconda3/envs/minigpt4/lib/python3.9/site-packages/transformers/generation/utils.py:1219: UserWarning: You have modified the pretrained model configuration to control generation. This is a deprecated strategy to control generation and will be removed soon, in a future version. Please use a generation configuration file (see https://huggingface.co/docs/transformers/main_classes/text_generation)\n",
      "  warnings.warn(\n",
      "/home/changsun/anaconda3/envs/minigpt4/lib/python3.9/site-packages/bitsandbytes/autograd/_functions.py:298: UserWarning: MatMul8bitLt: inputs will be cast from torch.float32 to float16 during quantization\n",
      "  warnings.warn(f\"MatMul8bitLt: inputs will be cast from {A.dtype} to float16 during quantization\")\n"
     ]
    }
   ],
   "source": [
    "inp = {\n",
    "    \"query\": \" This is a volumetric brain MRI scan showing abnormalities. Diagnose this patient with this MRI scan.\",\n",
    "    \"img\": np.load('/home/changsun/minigpt4/bento/TCGA_CS_4941_19960909.npy'), \n",
    "}\n",
    "result = await svc.apis[\"reportgen\"].func(**inp)"
   ]
  },
  {
   "cell_type": "code",
   "execution_count": 6,
   "metadata": {},
   "outputs": [
    {
     "name": "stdout",
     "output_type": "stream",
     "text": [
      "answer='the mri reveals an oligodendroglioma a grade 3 neoplasm located in the left supratentorial frontal lobe. this denotes a high-grade malignant tumor typical of aggressive growth patterns. the tumors position in the left frontal lobe suggests potential impact on cognitive functions and personality individuals typically seen in patients with such a diagnosis.'\n"
     ]
    }
   ],
   "source": [
    "print(result)"
   ]
  }
 ],
 "metadata": {
  "kernelspec": {
   "display_name": "Python 3",
   "language": "python",
   "name": "python3"
  },
  "language_info": {
   "codemirror_mode": {
    "name": "ipython",
    "version": 3
   },
   "file_extension": ".py",
   "mimetype": "text/x-python",
   "name": "python",
   "nbconvert_exporter": "python",
   "pygments_lexer": "ipython3",
   "version": "3.9.17"
  },
  "orig_nbformat": 4
 },
 "nbformat": 4,
 "nbformat_minor": 2
}
